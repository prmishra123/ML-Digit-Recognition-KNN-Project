{
 "cells": [
  {
   "cell_type": "code",
   "execution_count": 2,
   "metadata": {},
   "outputs": [],
   "source": [
    "import numpy as np\n",
    "from PIL import Image\n",
    "import matplotlib.pyplot as plt\n",
    "from matplotlib import style\n",
    "style.use('fivethirtyeight')\n",
    "%matplotlib inline\n",
    "import glob\n",
    "import os\n",
    "from collections import Counter\n",
    "import pandas as pd\n",
    "import time"
   ]
  },
  {
   "cell_type": "code",
   "execution_count": 3,
   "metadata": {},
   "outputs": [],
   "source": [
    "#to desaturate the image by turing pixels into black or white based on their value. \n",
    "#lighter pixels are turned white and darker pixels are turned black.\n",
    "def threshold(img_array):\n",
    "    row_avg=[]\n",
    "    for eachrow in img_array:\n",
    "        row_avg.append(np.mean(eachrow))\n",
    "    avg_color=np.mean(row_avg)\n",
    "    #print(avg_color)\n",
    "    \n",
    "    new_image=np.eye(len(img_array))\n",
    "    \n",
    "    for row in range(len(img_array)):\n",
    "        for pixel in range(len(img_array[row])):\n",
    "            if img_array[row][pixel]>=avg_color:\n",
    "                new_image[row][pixel]=255\n",
    "            else:\n",
    "                new_image[row][pixel]=0\n",
    "    new_image=np.array(new_image)\n",
    "    return new_image"
   ]
  },
  {
   "cell_type": "code",
   "execution_count": 4,
   "metadata": {},
   "outputs": [],
   "source": [
    "#a slightly different codeblock to threshold, same principle, just for different image format.\n",
    "def threshold2(img_array):\n",
    "    new=np.eye(len(img_array))\n",
    "    rowavg=[]\n",
    "    for eachrow in img_array:\n",
    "        rowavg.append(np.mean(eachrow))\n",
    "    avgcolor=np.mean(rowavg)\n",
    "    for row in range(len(img_array)):\n",
    "        for pixel in range(len(img_array[row])):\n",
    "            if np.mean(img_array[row][pixel])>=avgcolor:\n",
    "                new[row][pixel]=255\n",
    "            else:\n",
    "                new[row][pixel]=0\n",
    "    new=np.array(new)\n",
    "    return new"
   ]
  },
  {
   "cell_type": "code",
   "execution_count": 5,
   "metadata": {},
   "outputs": [],
   "source": [
    "#to read the entire pixel row of the image and give a value to that row\n",
    "#these values will be then passed to the KNN algorithm\n",
    "def value(row):\n",
    "    sum=0\n",
    "    for i in range(len(row)):\n",
    "        sum+=row[i]/float(i+1)\n",
    "    return sum"
   ]
  },
  {
   "cell_type": "code",
   "execution_count": 6,
   "metadata": {},
   "outputs": [],
   "source": [
    "#loading the extracted data on the program\n",
    "df=pd.read_csv('train_file21.csv')\n",
    "\n",
    "#replacing all missing data with NaN value\n",
    "df.replace('?',np.nan,inplace=True)\n",
    "\n",
    "#deleting the column with id, 1 in the argument indicates 'column', so this will delete the 'column' containing 'id'\n",
    "#df.drop(['id'],1,inplace=True)\n",
    "df.drop(['1'],1,inplace=True)\n",
    "df.drop(['2'],1,inplace=True)\n",
    "df.drop(['3'],1,inplace=True)\n",
    "df.drop(['4'],1,inplace=True)\n",
    "df.drop(['25'],1,inplace=True)\n",
    "df.drop(['26'],1,inplace=True)\n",
    "df.drop(['27'],1,inplace=True)\n",
    "df.drop(['28'],1,inplace=True)\n",
    "#delete all the rows that have NaN in them\n",
    "dk=df.dropna()\n",
    "full_data=dk.values.tolist()\n",
    "headers = df.dtypes.index\n",
    "header=headers.tolist()\n",
    "header2=header[:-1]"
   ]
  },
  {
   "cell_type": "code",
   "execution_count": 7,
   "metadata": {},
   "outputs": [],
   "source": [
    "points=[]\n",
    "for column in header:\n",
    "    points.append(df[column].tolist())\n"
   ]
  },
  {
   "cell_type": "code",
   "execution_count": 8,
   "metadata": {},
   "outputs": [],
   "source": [
    "for point in points:\n",
    "    del point[0]"
   ]
  },
  {
   "cell_type": "code",
   "execution_count": 9,
   "metadata": {},
   "outputs": [],
   "source": [
    "#to arrange the data into a KNN acceptable format\n",
    "dataset={}\n",
    "for i in range(1,len(df)):\n",
    "    point=[]\n",
    "    label=df.loc[[i]]['label'].tolist()[0]\n",
    "    if label not in dataset:\n",
    "        dataset[label]=[]\n",
    "    for head in header2:\n",
    "        point.append(df.loc[[i]][head].tolist()[0])\n",
    "    dataset[label].append(point)"
   ]
  },
  {
   "cell_type": "code",
   "execution_count": 10,
   "metadata": {},
   "outputs": [],
   "source": [
    "#to count the apprearence of an element for KNN\n",
    "def class_counts(data):\n",
    "    counts={}\n",
    "    for row in data:\n",
    "        label=row\n",
    "        if label not in counts:\n",
    "            counts[label]=0\n",
    "        counts[label]+=1\n",
    "    return counts"
   ]
  },
  {
   "cell_type": "code",
   "execution_count": 11,
   "metadata": {},
   "outputs": [],
   "source": [
    "def k_nearest_neighbours(data,predict,k):\n",
    "    dist=[]\n",
    "    rev={}\n",
    "    for group in data:\n",
    "        for features in data[group]:\n",
    "            distance=np.linalg.norm(np.array(features)-np.array(predict))\n",
    "            dist.append([distance,group])\n",
    "    votes=[i[1] for i in sorted(dist)[:k]]\n",
    "    uniqueVotes=class_counts(votes)\n",
    "    \n",
    "    #print('sorted distance: ',sorted(dist))\n",
    "    #print('votes: ',uniqueVotes)\n",
    "    \n",
    "    for vote in uniqueVotes:\n",
    "        rev[uniqueVotes[vote]]=vote\n",
    "    #data[rev[max(rev)]].append(predict)\n",
    "    return rev[max(rev)]"
   ]
  },
  {
   "cell_type": "code",
   "execution_count": 12,
   "metadata": {},
   "outputs": [],
   "source": [
    "image='C:/Users/HP/Downloads/DR/digit1.jpg'\n",
    "def predict(image,show=False):\n",
    "    img=Image.open(image)\n",
    "    if show:\n",
    "        print('input image:')\n",
    "        plt.grid(False)\n",
    "        plt.imshow(img)\n",
    "        plt.show()\n",
    "    pred=[]\n",
    "    image_array=np.array(img)\n",
    "    try:\n",
    "        image_t=threshold(image_array)\n",
    "    except:\n",
    "        image_t=threshold2(image_array)\n",
    "    image_t_list=image_t.tolist()\n",
    "    for row_data in image_t_list:\n",
    "        pred.append(value(row_data))\n",
    "    pred=pred[4:24]\n",
    "    #pred\n",
    "    answer=k_nearest_neighbours(dataset,pred,21)\n",
    "    #print('predicted value: ',answer)\n",
    "    return answer\n",
    "    #return answer"
   ]
  },
  {
   "cell_type": "code",
   "execution_count": 13,
   "metadata": {},
   "outputs": [
    {
     "name": "stdout",
     "output_type": "stream",
     "text": [
      "input image:\n"
     ]
    },
    {
     "data": {
      "image/png": "[encoded data removed]",
      "text/plain": [
       "<Figure size 432x288 with 1 Axes>"
      ]
     },
     "metadata": {
      "needs_background": "light"
     },
     "output_type": "display_data"
    },
    {
     "data": {
      "text/plain": [
       "7.0"
      ]
     },
     "execution_count": 13,
     "metadata": {},
     "output_type": "execute_result"
    }
   ],
   "source": [
    "path='C:/Users/HP/Downloads/DR/digit2.jpg'\n",
    "predict(path,True)"
   ]
  },
  {
   "cell_type": "code",
   "execution_count": 14,
   "metadata": {},
   "outputs": [
    {
     "name": "stdout",
     "output_type": "stream",
     "text": [
      "input image:\n"
     ]
    },
    {
     "data": {
      "image/png": "[encoded data removed]",
      "text/plain": [
       "<Figure size 432x288 with 1 Axes>"
      ]
     },
     "metadata": {
      "needs_background": "light"
     },
     "output_type": "display_data"
    },
    {
     "name": "stdout",
     "output_type": "stream",
     "text": [
      "8.0\n"
     ]
    }
   ],
   "source": [
    "path='C:/Users/HP/Downloads/DR/'\n",
    "test_imgs=os.listdir(path)\n",
    "i=np.random.randint(0,len(test_imgs))\n",
    "pic=test_imgs[i]\n",
    "#p=Image.open(path+pic)\n",
    "p=predict(path+pic,True)\n",
    "print(p)"
   ]
  },
  {
   "cell_type": "code",
   "execution_count": 15,
   "metadata": {},
   "outputs": [
    {
     "name": "stdout",
     "output_type": "stream",
     "text": [
      "input image:\n"
     ]
    },
    {
     "data": {
      "image/png": "[encoded data removed]",
      "text/plain": [
       "<Figure size 432x288 with 1 Axes>"
      ]
     },
     "metadata": {
      "needs_background": "light"
     },
     "output_type": "display_data"
    },
    {
     "name": "stdout",
     "output_type": "stream",
     "text": [
      "0.0\n"
     ]
    }
   ],
   "source": [
    "path='C:/Users/HP/Downloads/DR/'\n",
    "test_imgs=os.listdir(path)\n",
    "i=np.random.randint(0,len(test_imgs))\n",
    "pic=test_imgs[i]\n",
    "#p=Image.open(path+pic)\n",
    "p=predict(path+pic,True)\n",
    "print(p)"
   ]
  },
  {
   "cell_type": "code",
   "execution_count": 17,
   "metadata": {},
   "outputs": [
    {
     "name": "stdout",
     "output_type": "stream",
     "text": [
      "input image:\n"
     ]
    },
    {
     "data": {
      "image/png": "[encoded data removed]",
      "text/plain": [
       "<Figure size 432x288 with 1 Axes>"
      ]
     },
     "metadata": {
      "needs_background": "light"
     },
     "output_type": "display_data"
    },
    {
     "name": "stdout",
     "output_type": "stream",
     "text": [
      "0.0\n"
     ]
    }
   ],
   "source": [
    "path='C:/Users/HP/Downloads/DR/'\n",
    "test_imgs=os.listdir(path)\n",
    "i=np.random.randint(0,len(test_imgs))\n",
    "pic=test_imgs[i]\n",
    "#p=Image.open(path+pic)\n",
    "p=predict(path+pic,True)\n",
    "print(p)"
   ]
  },
  {
   "cell_type": "code",
   "execution_count": null,
   "metadata": {},
   "outputs": [],
   "source": []
  }
 ],
 "metadata": {
  "kernelspec": {
   "display_name": "Python 3",
   "language": "python",
   "name": "python3"
  },
  "language_info": {
   "codemirror_mode": {
    "name": "ipython",
    "version": 3
   },
   "file_extension": ".py",
   "mimetype": "text/x-python",
   "name": "python",
   "nbconvert_exporter": "python",
   "pygments_lexer": "ipython3",
   "version": "3.7.3"
  }
 },
 "nbformat": 4,
 "nbformat_minor": 2
}
